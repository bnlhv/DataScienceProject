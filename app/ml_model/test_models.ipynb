{
 "cells": [
  {
   "cell_type": "code",
   "execution_count": 114,
   "metadata": {},
   "outputs": [],
   "source": [
    "import pandas as pd\n",
    "from pathlib import Path\n",
    "from sklearn.model_selection import train_test_split\n",
    "import numpy as np\n",
    "from sklearn import metrics \n",
    "from sklearn import svm"
   ]
  },
  {
   "cell_type": "code",
   "execution_count": 115,
   "metadata": {},
   "outputs": [
    {
     "data": {
      "text/plain": [
       "['Unnamed: 0', 'Unnamed: 0.1', 'track_uri', 'track_name', 'album']"
      ]
     },
     "execution_count": 115,
     "metadata": {},
     "output_type": "execute_result"
    }
   ],
   "source": [
    "#read in the data using pandas\n",
    "\n",
    "df = pd.read_csv(Path.cwd().parent / \"data\" / \"02_tracks_from_spotify_with_word_count.csv\")\n",
    "to_drop = [col for col in df.columns if \"Unnamed\" in col.split(\":\")] + [\"track_uri\", \"track_name\", \"album\"]\n",
    "\n",
    "\n",
    "# df = pd.read_csv(Path.cwd().parent / \"data\" / \"final_dataset.csv\")\n",
    "#check data has been read in properly\n",
    "# to_drop = [col for col in df.columns if \"Unnamed\" in col.split(\":\")] + [\"track_uri\", \"artist_genres\"]\n",
    "# to_drop += [col for i, col in enumerate(df.columns) if i > 14]\n",
    "\n",
    "to_drop"
   ]
  },
  {
   "cell_type": "code",
   "execution_count": 116,
   "metadata": {},
   "outputs": [
    {
     "data": {
      "text/plain": [
       "(8052, 12)"
      ]
     },
     "execution_count": 116,
     "metadata": {},
     "output_type": "execute_result"
    }
   ],
   "source": [
    "df = df.drop(columns=to_drop)\n",
    "df.shape"
   ]
  },
  {
   "cell_type": "code",
   "execution_count": 117,
   "metadata": {},
   "outputs": [
    {
     "data": {
      "text/plain": [
       "artist_name                                                         1349\n",
       "artist_popularity                                                     33\n",
       "artist_followers                                                   89380\n",
       "artist_genres          ('black metal', 'dark black metal', 'metal', '...\n",
       "track_popularity                                                      35\n",
       "track_danceability                                                 0.176\n",
       "track_energy                                                       0.963\n",
       "track_loudness                                                    -4.817\n",
       "track_tempo                                                      123.779\n",
       "track_duration_ms                                                 250507\n",
       "is_explicit_content                                                False\n",
       "words_count                                                          179\n",
       "Name: 8051, dtype: object"
      ]
     },
     "execution_count": 117,
     "metadata": {},
     "output_type": "execute_result"
    }
   ],
   "source": [
    "df.iloc[-1, :]"
   ]
  },
  {
   "cell_type": "code",
   "execution_count": 118,
   "metadata": {},
   "outputs": [
    {
     "data": {
      "text/plain": [
       "artist_name              0\n",
       "artist_popularity        0\n",
       "artist_followers         0\n",
       "artist_genres            0\n",
       "track_popularity         0\n",
       "track_danceability       0\n",
       "track_energy             0\n",
       "track_loudness           0\n",
       "track_tempo              0\n",
       "track_duration_ms        0\n",
       "is_explicit_content      0\n",
       "words_count            985\n",
       "dtype: int64"
      ]
     },
     "execution_count": 118,
     "metadata": {},
     "output_type": "execute_result"
    }
   ],
   "source": [
    "df.isnull().sum()"
   ]
  },
  {
   "cell_type": "code",
   "execution_count": 119,
   "metadata": {},
   "outputs": [],
   "source": [
    "X = df.drop(columns=[\"is_explicit_content\"])\n",
    "y = df[\"is_explicit_content\"]"
   ]
  },
  {
   "cell_type": "code",
   "execution_count": 120,
   "metadata": {},
   "outputs": [
    {
     "data": {
      "text/plain": [
       "artist_name             object\n",
       "artist_popularity        int64\n",
       "artist_followers         int64\n",
       "artist_genres           object\n",
       "track_popularity         int64\n",
       "track_danceability     float64\n",
       "track_energy           float64\n",
       "track_loudness         float64\n",
       "track_tempo            float64\n",
       "track_duration_ms        int64\n",
       "is_explicit_content       bool\n",
       "words_count            float64\n",
       "dtype: object"
      ]
     },
     "execution_count": 120,
     "metadata": {},
     "output_type": "execute_result"
    }
   ],
   "source": [
    "df.dtypes"
   ]
  },
  {
   "cell_type": "code",
   "execution_count": 121,
   "metadata": {},
   "outputs": [],
   "source": [
    "# TEMP!\n",
    "\n",
    "from sklearn.preprocessing import LabelEncoder\n",
    "le = LabelEncoder()\n",
    "df[\"artist_name\"] = le.fit_transform(df[\"artist_name\"])"
   ]
  },
  {
   "cell_type": "code",
   "execution_count": 122,
   "metadata": {},
   "outputs": [
    {
     "data": {
      "text/plain": [
       "artist_name                                                           10\n",
       "artist_popularity                                                     33\n",
       "artist_followers                                                   89380\n",
       "artist_genres          ('black metal', 'dark black metal', 'metal', '...\n",
       "track_popularity                                                      35\n",
       "track_danceability                                                 0.176\n",
       "track_energy                                                       0.963\n",
       "track_loudness                                                    -4.817\n",
       "track_tempo                                                      123.779\n",
       "track_duration_ms                                                 250507\n",
       "is_explicit_content                                                False\n",
       "words_count                                                          179\n",
       "Name: 8051, dtype: object"
      ]
     },
     "execution_count": 122,
     "metadata": {},
     "output_type": "execute_result"
    }
   ],
   "source": [
    "df.iloc[-1, :]"
   ]
  },
  {
   "cell_type": "markdown",
   "metadata": {},
   "source": [
    "# Remove Outliers"
   ]
  },
  {
   "cell_type": "code",
   "execution_count": 123,
   "metadata": {},
   "outputs": [
    {
     "data": {
      "text/plain": [
       "(8052, 12)"
      ]
     },
     "execution_count": 123,
     "metadata": {},
     "output_type": "execute_result"
    }
   ],
   "source": [
    "df.shape"
   ]
  },
  {
   "cell_type": "code",
   "execution_count": 124,
   "metadata": {},
   "outputs": [],
   "source": [
    "df.dropna(inplace=True)"
   ]
  },
  {
   "cell_type": "code",
   "execution_count": 125,
   "metadata": {},
   "outputs": [
    {
     "data": {
      "text/plain": [
       "(7067, 12)"
      ]
     },
     "execution_count": 125,
     "metadata": {},
     "output_type": "execute_result"
    }
   ],
   "source": [
    "df.shape"
   ]
  },
  {
   "cell_type": "code",
   "execution_count": 126,
   "metadata": {},
   "outputs": [
    {
     "data": {
      "text/plain": [
       "artist_name            0\n",
       "artist_popularity      0\n",
       "artist_followers       0\n",
       "artist_genres          0\n",
       "track_popularity       0\n",
       "track_danceability     0\n",
       "track_energy           0\n",
       "track_loudness         0\n",
       "track_tempo            0\n",
       "track_duration_ms      0\n",
       "is_explicit_content    0\n",
       "words_count            0\n",
       "dtype: int64"
      ]
     },
     "execution_count": 126,
     "metadata": {},
     "output_type": "execute_result"
    }
   ],
   "source": [
    "df.isnull().sum()"
   ]
  },
  {
   "cell_type": "code",
   "execution_count": 127,
   "metadata": {},
   "outputs": [
    {
     "data": {
      "text/plain": [
       "artist_name                                                           10\n",
       "artist_popularity                                                     33\n",
       "artist_followers                                                   89380\n",
       "artist_genres          ('black metal', 'dark black metal', 'metal', '...\n",
       "track_popularity                                                      35\n",
       "track_danceability                                                 0.176\n",
       "track_energy                                                       0.963\n",
       "track_loudness                                                    -4.817\n",
       "track_tempo                                                      123.779\n",
       "track_duration_ms                                                 250507\n",
       "is_explicit_content                                                False\n",
       "words_count                                                          179\n",
       "Name: 8051, dtype: object"
      ]
     },
     "execution_count": 127,
     "metadata": {},
     "output_type": "execute_result"
    }
   ],
   "source": [
    "df.iloc[-1, :]"
   ]
  },
  {
   "cell_type": "code",
   "execution_count": 128,
   "metadata": {},
   "outputs": [],
   "source": [
    "# df[\"country_code\"] = df[\"country_code\"].astype('category')\n",
    "df[\"artist_name\"] = df[\"artist_name\"].astype('category')"
   ]
  },
  {
   "cell_type": "code",
   "execution_count": 129,
   "metadata": {},
   "outputs": [
    {
     "ename": "KeyError",
     "evalue": "'artist_genres'",
     "output_type": "error",
     "traceback": [
      "\u001b[1;31m---------------------------------------------------------------------------\u001b[0m",
      "\u001b[1;31mKeyError\u001b[0m                                  Traceback (most recent call last)",
      "\u001b[1;32m~\\pyver\\anaconda3\\envs\\cv\\lib\\site-packages\\pandas\\core\\indexes\\base.py\u001b[0m in \u001b[0;36mget_loc\u001b[1;34m(self, key, method, tolerance)\u001b[0m\n\u001b[0;32m   2897\u001b[0m             \u001b[1;32mtry\u001b[0m\u001b[1;33m:\u001b[0m\u001b[1;33m\u001b[0m\u001b[1;33m\u001b[0m\u001b[0m\n\u001b[1;32m-> 2898\u001b[1;33m                 \u001b[1;32mreturn\u001b[0m \u001b[0mself\u001b[0m\u001b[1;33m.\u001b[0m\u001b[0m_engine\u001b[0m\u001b[1;33m.\u001b[0m\u001b[0mget_loc\u001b[0m\u001b[1;33m(\u001b[0m\u001b[0mcasted_key\u001b[0m\u001b[1;33m)\u001b[0m\u001b[1;33m\u001b[0m\u001b[1;33m\u001b[0m\u001b[0m\n\u001b[0m\u001b[0;32m   2899\u001b[0m             \u001b[1;32mexcept\u001b[0m \u001b[0mKeyError\u001b[0m \u001b[1;32mas\u001b[0m \u001b[0merr\u001b[0m\u001b[1;33m:\u001b[0m\u001b[1;33m\u001b[0m\u001b[1;33m\u001b[0m\u001b[0m\n",
      "\u001b[1;32mpandas\\_libs\\index.pyx\u001b[0m in \u001b[0;36mpandas._libs.index.IndexEngine.get_loc\u001b[1;34m()\u001b[0m\n",
      "\u001b[1;32mpandas\\_libs\\index.pyx\u001b[0m in \u001b[0;36mpandas._libs.index.IndexEngine.get_loc\u001b[1;34m()\u001b[0m\n",
      "\u001b[1;32mpandas\\_libs\\hashtable_class_helper.pxi\u001b[0m in \u001b[0;36mpandas._libs.hashtable.PyObjectHashTable.get_item\u001b[1;34m()\u001b[0m\n",
      "\u001b[1;32mpandas\\_libs\\hashtable_class_helper.pxi\u001b[0m in \u001b[0;36mpandas._libs.hashtable.PyObjectHashTable.get_item\u001b[1;34m()\u001b[0m\n",
      "\u001b[1;31mKeyError\u001b[0m: 'artist_genres'",
      "\nThe above exception was the direct cause of the following exception:\n",
      "\u001b[1;31mKeyError\u001b[0m                                  Traceback (most recent call last)",
      "\u001b[1;32m<ipython-input-129-40d35bf66c88>\u001b[0m in \u001b[0;36m<module>\u001b[1;34m\u001b[0m\n\u001b[0;32m      9\u001b[0m \u001b[1;33m\u001b[0m\u001b[0m\n\u001b[0;32m     10\u001b[0m \u001b[1;32mfor\u001b[0m \u001b[0mnum\u001b[0m\u001b[1;33m,\u001b[0m \u001b[0mrow\u001b[0m \u001b[1;32min\u001b[0m \u001b[0mquatiative\u001b[0m\u001b[1;33m.\u001b[0m\u001b[0miterrows\u001b[0m\u001b[1;33m(\u001b[0m\u001b[1;33m)\u001b[0m\u001b[1;33m:\u001b[0m\u001b[1;33m\u001b[0m\u001b[1;33m\u001b[0m\u001b[0m\n\u001b[1;32m---> 11\u001b[1;33m     \u001b[0moutliers_in_row\u001b[0m \u001b[1;33m=\u001b[0m \u001b[1;33m[\u001b[0m\u001b[1;36m1\u001b[0m \u001b[1;32mfor\u001b[0m \u001b[0mcol\u001b[0m \u001b[1;32min\u001b[0m \u001b[0mquatiative\u001b[0m\u001b[1;33m.\u001b[0m\u001b[0mcolumns\u001b[0m \u001b[1;32mif\u001b[0m \u001b[0mrow\u001b[0m\u001b[1;33m[\u001b[0m\u001b[0mcol\u001b[0m\u001b[1;33m]\u001b[0m \u001b[1;33m>\u001b[0m \u001b[0mupper_bound\u001b[0m\u001b[1;33m[\u001b[0m\u001b[0mcol\u001b[0m\u001b[1;33m]\u001b[0m \u001b[1;32mor\u001b[0m \u001b[0mrow\u001b[0m\u001b[1;33m[\u001b[0m\u001b[0mcol\u001b[0m\u001b[1;33m]\u001b[0m \u001b[1;33m<\u001b[0m \u001b[0mlower_bound\u001b[0m\u001b[1;33m[\u001b[0m\u001b[0mcol\u001b[0m\u001b[1;33m]\u001b[0m\u001b[1;33m]\u001b[0m\u001b[1;33m.\u001b[0m\u001b[0mcount\u001b[0m\u001b[1;33m(\u001b[0m\u001b[1;36m1\u001b[0m\u001b[1;33m)\u001b[0m\u001b[1;33m\u001b[0m\u001b[1;33m\u001b[0m\u001b[0m\n\u001b[0m\u001b[0;32m     12\u001b[0m     \u001b[1;31m# add this index(row) if 30% of it's content is outlaiered\u001b[0m\u001b[1;33m\u001b[0m\u001b[1;33m\u001b[0m\u001b[1;33m\u001b[0m\u001b[0m\n\u001b[0;32m     13\u001b[0m     \u001b[1;32mif\u001b[0m \u001b[0moutliers_in_row\u001b[0m \u001b[1;33m>\u001b[0m \u001b[1;36m0.1\u001b[0m \u001b[1;33m*\u001b[0m \u001b[0mlen\u001b[0m\u001b[1;33m(\u001b[0m\u001b[0mrow\u001b[0m\u001b[1;33m)\u001b[0m\u001b[1;33m:\u001b[0m\u001b[1;33m\u001b[0m\u001b[1;33m\u001b[0m\u001b[0m\n",
      "\u001b[1;32m<ipython-input-129-40d35bf66c88>\u001b[0m in \u001b[0;36m<listcomp>\u001b[1;34m(.0)\u001b[0m\n\u001b[0;32m      9\u001b[0m \u001b[1;33m\u001b[0m\u001b[0m\n\u001b[0;32m     10\u001b[0m \u001b[1;32mfor\u001b[0m \u001b[0mnum\u001b[0m\u001b[1;33m,\u001b[0m \u001b[0mrow\u001b[0m \u001b[1;32min\u001b[0m \u001b[0mquatiative\u001b[0m\u001b[1;33m.\u001b[0m\u001b[0miterrows\u001b[0m\u001b[1;33m(\u001b[0m\u001b[1;33m)\u001b[0m\u001b[1;33m:\u001b[0m\u001b[1;33m\u001b[0m\u001b[1;33m\u001b[0m\u001b[0m\n\u001b[1;32m---> 11\u001b[1;33m     \u001b[0moutliers_in_row\u001b[0m \u001b[1;33m=\u001b[0m \u001b[1;33m[\u001b[0m\u001b[1;36m1\u001b[0m \u001b[1;32mfor\u001b[0m \u001b[0mcol\u001b[0m \u001b[1;32min\u001b[0m \u001b[0mquatiative\u001b[0m\u001b[1;33m.\u001b[0m\u001b[0mcolumns\u001b[0m \u001b[1;32mif\u001b[0m \u001b[0mrow\u001b[0m\u001b[1;33m[\u001b[0m\u001b[0mcol\u001b[0m\u001b[1;33m]\u001b[0m \u001b[1;33m>\u001b[0m \u001b[0mupper_bound\u001b[0m\u001b[1;33m[\u001b[0m\u001b[0mcol\u001b[0m\u001b[1;33m]\u001b[0m \u001b[1;32mor\u001b[0m \u001b[0mrow\u001b[0m\u001b[1;33m[\u001b[0m\u001b[0mcol\u001b[0m\u001b[1;33m]\u001b[0m \u001b[1;33m<\u001b[0m \u001b[0mlower_bound\u001b[0m\u001b[1;33m[\u001b[0m\u001b[0mcol\u001b[0m\u001b[1;33m]\u001b[0m\u001b[1;33m]\u001b[0m\u001b[1;33m.\u001b[0m\u001b[0mcount\u001b[0m\u001b[1;33m(\u001b[0m\u001b[1;36m1\u001b[0m\u001b[1;33m)\u001b[0m\u001b[1;33m\u001b[0m\u001b[1;33m\u001b[0m\u001b[0m\n\u001b[0m\u001b[0;32m     12\u001b[0m     \u001b[1;31m# add this index(row) if 30% of it's content is outlaiered\u001b[0m\u001b[1;33m\u001b[0m\u001b[1;33m\u001b[0m\u001b[1;33m\u001b[0m\u001b[0m\n\u001b[0;32m     13\u001b[0m     \u001b[1;32mif\u001b[0m \u001b[0moutliers_in_row\u001b[0m \u001b[1;33m>\u001b[0m \u001b[1;36m0.1\u001b[0m \u001b[1;33m*\u001b[0m \u001b[0mlen\u001b[0m\u001b[1;33m(\u001b[0m\u001b[0mrow\u001b[0m\u001b[1;33m)\u001b[0m\u001b[1;33m:\u001b[0m\u001b[1;33m\u001b[0m\u001b[1;33m\u001b[0m\u001b[0m\n",
      "\u001b[1;32m~\\pyver\\anaconda3\\envs\\cv\\lib\\site-packages\\pandas\\core\\series.py\u001b[0m in \u001b[0;36m__getitem__\u001b[1;34m(self, key)\u001b[0m\n\u001b[0;32m    880\u001b[0m \u001b[1;33m\u001b[0m\u001b[0m\n\u001b[0;32m    881\u001b[0m         \u001b[1;32melif\u001b[0m \u001b[0mkey_is_scalar\u001b[0m\u001b[1;33m:\u001b[0m\u001b[1;33m\u001b[0m\u001b[1;33m\u001b[0m\u001b[0m\n\u001b[1;32m--> 882\u001b[1;33m             \u001b[1;32mreturn\u001b[0m \u001b[0mself\u001b[0m\u001b[1;33m.\u001b[0m\u001b[0m_get_value\u001b[0m\u001b[1;33m(\u001b[0m\u001b[0mkey\u001b[0m\u001b[1;33m)\u001b[0m\u001b[1;33m\u001b[0m\u001b[1;33m\u001b[0m\u001b[0m\n\u001b[0m\u001b[0;32m    883\u001b[0m \u001b[1;33m\u001b[0m\u001b[0m\n\u001b[0;32m    884\u001b[0m         \u001b[1;32mif\u001b[0m \u001b[0mis_hashable\u001b[0m\u001b[1;33m(\u001b[0m\u001b[0mkey\u001b[0m\u001b[1;33m)\u001b[0m\u001b[1;33m:\u001b[0m\u001b[1;33m\u001b[0m\u001b[1;33m\u001b[0m\u001b[0m\n",
      "\u001b[1;32m~\\pyver\\anaconda3\\envs\\cv\\lib\\site-packages\\pandas\\core\\series.py\u001b[0m in \u001b[0;36m_get_value\u001b[1;34m(self, label, takeable)\u001b[0m\n\u001b[0;32m    988\u001b[0m \u001b[1;33m\u001b[0m\u001b[0m\n\u001b[0;32m    989\u001b[0m         \u001b[1;31m# Similar to Index.get_value, but we do not fall back to positional\u001b[0m\u001b[1;33m\u001b[0m\u001b[1;33m\u001b[0m\u001b[1;33m\u001b[0m\u001b[0m\n\u001b[1;32m--> 990\u001b[1;33m         \u001b[0mloc\u001b[0m \u001b[1;33m=\u001b[0m \u001b[0mself\u001b[0m\u001b[1;33m.\u001b[0m\u001b[0mindex\u001b[0m\u001b[1;33m.\u001b[0m\u001b[0mget_loc\u001b[0m\u001b[1;33m(\u001b[0m\u001b[0mlabel\u001b[0m\u001b[1;33m)\u001b[0m\u001b[1;33m\u001b[0m\u001b[1;33m\u001b[0m\u001b[0m\n\u001b[0m\u001b[0;32m    991\u001b[0m         \u001b[1;32mreturn\u001b[0m \u001b[0mself\u001b[0m\u001b[1;33m.\u001b[0m\u001b[0mindex\u001b[0m\u001b[1;33m.\u001b[0m\u001b[0m_get_values_for_loc\u001b[0m\u001b[1;33m(\u001b[0m\u001b[0mself\u001b[0m\u001b[1;33m,\u001b[0m \u001b[0mloc\u001b[0m\u001b[1;33m,\u001b[0m \u001b[0mlabel\u001b[0m\u001b[1;33m)\u001b[0m\u001b[1;33m\u001b[0m\u001b[1;33m\u001b[0m\u001b[0m\n\u001b[0;32m    992\u001b[0m \u001b[1;33m\u001b[0m\u001b[0m\n",
      "\u001b[1;32m~\\pyver\\anaconda3\\envs\\cv\\lib\\site-packages\\pandas\\core\\indexes\\base.py\u001b[0m in \u001b[0;36mget_loc\u001b[1;34m(self, key, method, tolerance)\u001b[0m\n\u001b[0;32m   2898\u001b[0m                 \u001b[1;32mreturn\u001b[0m \u001b[0mself\u001b[0m\u001b[1;33m.\u001b[0m\u001b[0m_engine\u001b[0m\u001b[1;33m.\u001b[0m\u001b[0mget_loc\u001b[0m\u001b[1;33m(\u001b[0m\u001b[0mcasted_key\u001b[0m\u001b[1;33m)\u001b[0m\u001b[1;33m\u001b[0m\u001b[1;33m\u001b[0m\u001b[0m\n\u001b[0;32m   2899\u001b[0m             \u001b[1;32mexcept\u001b[0m \u001b[0mKeyError\u001b[0m \u001b[1;32mas\u001b[0m \u001b[0merr\u001b[0m\u001b[1;33m:\u001b[0m\u001b[1;33m\u001b[0m\u001b[1;33m\u001b[0m\u001b[0m\n\u001b[1;32m-> 2900\u001b[1;33m                 \u001b[1;32mraise\u001b[0m \u001b[0mKeyError\u001b[0m\u001b[1;33m(\u001b[0m\u001b[0mkey\u001b[0m\u001b[1;33m)\u001b[0m \u001b[1;32mfrom\u001b[0m \u001b[0merr\u001b[0m\u001b[1;33m\u001b[0m\u001b[1;33m\u001b[0m\u001b[0m\n\u001b[0m\u001b[0;32m   2901\u001b[0m \u001b[1;33m\u001b[0m\u001b[0m\n\u001b[0;32m   2902\u001b[0m         \u001b[1;32mif\u001b[0m \u001b[0mtolerance\u001b[0m \u001b[1;32mis\u001b[0m \u001b[1;32mnot\u001b[0m \u001b[1;32mNone\u001b[0m\u001b[1;33m:\u001b[0m\u001b[1;33m\u001b[0m\u001b[1;33m\u001b[0m\u001b[0m\n",
      "\u001b[1;31mKeyError\u001b[0m: 'artist_genres'"
     ]
    }
   ],
   "source": [
    "# take all numerics\n",
    "quatiative = df.select_dtypes(exclude=['category'])\n",
    "\n",
    "# boundaries for chaking outliers\n",
    "upper_bound = quatiative.mean() + 3 * quatiative.std()\n",
    "lower_bound = quatiative.mean() - 3 * quatiative.std()\n",
    "\n",
    "outliers = []\n",
    "\n",
    "for num, row in quatiative.iterrows():\n",
    "    outliers_in_row = [1 for col in quatiative.columns if row[col] > upper_bound[col] or row[col] < lower_bound[col]].count(1)    \n",
    "    # add this index(row) if 30% of it's content is outlaiered\n",
    "    if outliers_in_row > 0.1 * len(row):\n",
    "        outliers.append(num)\n",
    "\n",
    "print(f\"Number of indexes with 30% outliers of it's content are: {len(outliers)}\")"
   ]
  },
  {
   "cell_type": "code",
   "execution_count": null,
   "metadata": {},
   "outputs": [],
   "source": [
    "df.drop(outliers, inplace=True)\n",
    "\n",
    "df.shape"
   ]
  },
  {
   "cell_type": "code",
   "execution_count": 130,
   "metadata": {},
   "outputs": [],
   "source": [
    "df[\"is_explicit_content\"] = df[\"is_explicit_content\"].astype(\"int\").astype(\"category\")"
   ]
  },
  {
   "cell_type": "code",
   "execution_count": 131,
   "metadata": {},
   "outputs": [
    {
     "data": {
      "text/plain": [
       "artist_name                                                           10\n",
       "artist_popularity                                                     33\n",
       "artist_followers                                                   89380\n",
       "artist_genres          ('black metal', 'dark black metal', 'metal', '...\n",
       "track_popularity                                                      35\n",
       "track_danceability                                                 0.176\n",
       "track_energy                                                       0.963\n",
       "track_loudness                                                    -4.817\n",
       "track_tempo                                                      123.779\n",
       "track_duration_ms                                                 250507\n",
       "is_explicit_content                                                    0\n",
       "words_count                                                          179\n",
       "Name: 8051, dtype: object"
      ]
     },
     "execution_count": 131,
     "metadata": {},
     "output_type": "execute_result"
    }
   ],
   "source": [
    "df.iloc[-1, :]"
   ]
  },
  {
   "cell_type": "code",
   "execution_count": 132,
   "metadata": {},
   "outputs": [
    {
     "data": {
      "text/plain": [
       "artist_name            category\n",
       "artist_popularity         int64\n",
       "artist_followers          int64\n",
       "artist_genres            object\n",
       "track_popularity          int64\n",
       "track_danceability      float64\n",
       "track_energy            float64\n",
       "track_loudness          float64\n",
       "track_tempo             float64\n",
       "track_duration_ms         int64\n",
       "is_explicit_content    category\n",
       "words_count             float64\n",
       "dtype: object"
      ]
     },
     "execution_count": 132,
     "metadata": {},
     "output_type": "execute_result"
    }
   ],
   "source": [
    "df.dtypes"
   ]
  },
  {
   "cell_type": "markdown",
   "metadata": {},
   "source": [
    "# Normalization"
   ]
  },
  {
   "cell_type": "code",
   "execution_count": 15,
   "metadata": {},
   "outputs": [
    {
     "data": {
      "text/html": [
       "<div>\n",
       "<style scoped>\n",
       "    .dataframe tbody tr th:only-of-type {\n",
       "        vertical-align: middle;\n",
       "    }\n",
       "\n",
       "    .dataframe tbody tr th {\n",
       "        vertical-align: top;\n",
       "    }\n",
       "\n",
       "    .dataframe thead th {\n",
       "        text-align: right;\n",
       "    }\n",
       "</style>\n",
       "<table border=\"1\" class=\"dataframe\">\n",
       "  <thead>\n",
       "    <tr style=\"text-align: right;\">\n",
       "      <th></th>\n",
       "      <th>artist_popularity</th>\n",
       "      <th>artist_followers</th>\n",
       "      <th>track_popularity</th>\n",
       "      <th>track_danceability</th>\n",
       "      <th>track_energy</th>\n",
       "      <th>track_loudness</th>\n",
       "      <th>track_tempo</th>\n",
       "      <th>track_duration_ms</th>\n",
       "      <th>words_count</th>\n",
       "    </tr>\n",
       "  </thead>\n",
       "  <tbody>\n",
       "    <tr>\n",
       "      <th>count</th>\n",
       "      <td>7067.000000</td>\n",
       "      <td>7.067000e+03</td>\n",
       "      <td>7067.000000</td>\n",
       "      <td>7067.000000</td>\n",
       "      <td>7067.000000</td>\n",
       "      <td>7067.000000</td>\n",
       "      <td>7067.000000</td>\n",
       "      <td>7.067000e+03</td>\n",
       "      <td>7067.000000</td>\n",
       "    </tr>\n",
       "    <tr>\n",
       "      <th>mean</th>\n",
       "      <td>63.492571</td>\n",
       "      <td>4.086961e+06</td>\n",
       "      <td>50.185227</td>\n",
       "      <td>0.605783</td>\n",
       "      <td>0.655870</td>\n",
       "      <td>-7.435617</td>\n",
       "      <td>120.875314</td>\n",
       "      <td>2.192653e+05</td>\n",
       "      <td>1421.834159</td>\n",
       "    </tr>\n",
       "    <tr>\n",
       "      <th>std</th>\n",
       "      <td>17.056069</td>\n",
       "      <td>1.058477e+07</td>\n",
       "      <td>23.807716</td>\n",
       "      <td>0.166263</td>\n",
       "      <td>0.216246</td>\n",
       "      <td>3.653642</td>\n",
       "      <td>29.505605</td>\n",
       "      <td>6.892993e+04</td>\n",
       "      <td>8409.516816</td>\n",
       "    </tr>\n",
       "    <tr>\n",
       "      <th>min</th>\n",
       "      <td>0.000000</td>\n",
       "      <td>1.000000e+00</td>\n",
       "      <td>0.000000</td>\n",
       "      <td>0.066700</td>\n",
       "      <td>0.004700</td>\n",
       "      <td>-30.928000</td>\n",
       "      <td>38.006000</td>\n",
       "      <td>1.516000e+04</td>\n",
       "      <td>0.000000</td>\n",
       "    </tr>\n",
       "    <tr>\n",
       "      <th>25%</th>\n",
       "      <td>52.000000</td>\n",
       "      <td>5.497500e+04</td>\n",
       "      <td>41.000000</td>\n",
       "      <td>0.494000</td>\n",
       "      <td>0.518000</td>\n",
       "      <td>-8.904000</td>\n",
       "      <td>96.407000</td>\n",
       "      <td>1.771500e+05</td>\n",
       "      <td>232.000000</td>\n",
       "    </tr>\n",
       "    <tr>\n",
       "      <th>50%</th>\n",
       "      <td>65.000000</td>\n",
       "      <td>4.851570e+05</td>\n",
       "      <td>55.000000</td>\n",
       "      <td>0.614000</td>\n",
       "      <td>0.682000</td>\n",
       "      <td>-6.589000</td>\n",
       "      <td>120.010000</td>\n",
       "      <td>2.086930e+05</td>\n",
       "      <td>330.000000</td>\n",
       "    </tr>\n",
       "    <tr>\n",
       "      <th>75%</th>\n",
       "      <td>76.000000</td>\n",
       "      <td>2.700366e+06</td>\n",
       "      <td>67.000000</td>\n",
       "      <td>0.728000</td>\n",
       "      <td>0.831000</td>\n",
       "      <td>-4.945500</td>\n",
       "      <td>140.058500</td>\n",
       "      <td>2.465390e+05</td>\n",
       "      <td>527.500000</td>\n",
       "    </tr>\n",
       "    <tr>\n",
       "      <th>max</th>\n",
       "      <td>100.000000</td>\n",
       "      <td>9.112716e+07</td>\n",
       "      <td>100.000000</td>\n",
       "      <td>0.981000</td>\n",
       "      <td>1.000000</td>\n",
       "      <td>0.763000</td>\n",
       "      <td>216.194000</td>\n",
       "      <td>1.050893e+06</td>\n",
       "      <td>154678.000000</td>\n",
       "    </tr>\n",
       "  </tbody>\n",
       "</table>\n",
       "</div>"
      ],
      "text/plain": [
       "       artist_popularity  artist_followers  track_popularity  \\\n",
       "count        7067.000000      7.067000e+03       7067.000000   \n",
       "mean           63.492571      4.086961e+06         50.185227   \n",
       "std            17.056069      1.058477e+07         23.807716   \n",
       "min             0.000000      1.000000e+00          0.000000   \n",
       "25%            52.000000      5.497500e+04         41.000000   \n",
       "50%            65.000000      4.851570e+05         55.000000   \n",
       "75%            76.000000      2.700366e+06         67.000000   \n",
       "max           100.000000      9.112716e+07        100.000000   \n",
       "\n",
       "       track_danceability  track_energy  track_loudness  track_tempo  \\\n",
       "count         7067.000000   7067.000000     7067.000000  7067.000000   \n",
       "mean             0.605783      0.655870       -7.435617   120.875314   \n",
       "std              0.166263      0.216246        3.653642    29.505605   \n",
       "min              0.066700      0.004700      -30.928000    38.006000   \n",
       "25%              0.494000      0.518000       -8.904000    96.407000   \n",
       "50%              0.614000      0.682000       -6.589000   120.010000   \n",
       "75%              0.728000      0.831000       -4.945500   140.058500   \n",
       "max              0.981000      1.000000        0.763000   216.194000   \n",
       "\n",
       "       track_duration_ms    words_count  \n",
       "count       7.067000e+03    7067.000000  \n",
       "mean        2.192653e+05    1421.834159  \n",
       "std         6.892993e+04    8409.516816  \n",
       "min         1.516000e+04       0.000000  \n",
       "25%         1.771500e+05     232.000000  \n",
       "50%         2.086930e+05     330.000000  \n",
       "75%         2.465390e+05     527.500000  \n",
       "max         1.050893e+06  154678.000000  "
      ]
     },
     "execution_count": 15,
     "metadata": {},
     "output_type": "execute_result"
    }
   ],
   "source": [
    "df.describe()"
   ]
  },
  {
   "cell_type": "code",
   "execution_count": 16,
   "metadata": {},
   "outputs": [],
   "source": [
    "from sklearn.preprocessing import MinMaxScaler\n",
    "cols_to_scale = [\"artist_popularity\",\"artist_followers\",\"track_popularity\", \"track_tempo\", \"track_loudness\", \"track_duration_ms\"]\n",
    "for c in cols_to_scale:\n",
    "    scaler = MinMaxScaler() \n",
    "    scaled_values = scaler.fit_transform(df[c].to_numpy().reshape(-1, 1)) \n",
    "    df.loc[:,c] = scaled_values"
   ]
  },
  {
   "cell_type": "code",
   "execution_count": 67,
   "metadata": {},
   "outputs": [
    {
     "data": {
      "text/html": [
       "<div>\n",
       "<style scoped>\n",
       "    .dataframe tbody tr th:only-of-type {\n",
       "        vertical-align: middle;\n",
       "    }\n",
       "\n",
       "    .dataframe tbody tr th {\n",
       "        vertical-align: top;\n",
       "    }\n",
       "\n",
       "    .dataframe thead th {\n",
       "        text-align: right;\n",
       "    }\n",
       "</style>\n",
       "<table border=\"1\" class=\"dataframe\">\n",
       "  <thead>\n",
       "    <tr style=\"text-align: right;\">\n",
       "      <th></th>\n",
       "      <th>artist_popularity</th>\n",
       "      <th>artist_followers</th>\n",
       "      <th>track_popularity</th>\n",
       "      <th>track_danceability</th>\n",
       "      <th>track_energy</th>\n",
       "      <th>track_loudness</th>\n",
       "      <th>track_tempo</th>\n",
       "      <th>track_duration_ms</th>\n",
       "    </tr>\n",
       "  </thead>\n",
       "  <tbody>\n",
       "    <tr>\n",
       "      <th>count</th>\n",
       "      <td>8052.000000</td>\n",
       "      <td>8.052000e+03</td>\n",
       "      <td>8052.000000</td>\n",
       "      <td>8052.000000</td>\n",
       "      <td>8052.000000</td>\n",
       "      <td>8052.000000</td>\n",
       "      <td>8052.000000</td>\n",
       "      <td>8.052000e+03</td>\n",
       "    </tr>\n",
       "    <tr>\n",
       "      <th>mean</th>\n",
       "      <td>62.328738</td>\n",
       "      <td>3.816801e+06</td>\n",
       "      <td>49.513413</td>\n",
       "      <td>0.601675</td>\n",
       "      <td>0.637045</td>\n",
       "      <td>-7.929202</td>\n",
       "      <td>120.160684</td>\n",
       "      <td>2.221100e+05</td>\n",
       "    </tr>\n",
       "    <tr>\n",
       "      <th>std</th>\n",
       "      <td>17.501853</td>\n",
       "      <td>1.020761e+07</td>\n",
       "      <td>23.536597</td>\n",
       "      <td>0.171643</td>\n",
       "      <td>0.233869</td>\n",
       "      <td>4.481629</td>\n",
       "      <td>29.810634</td>\n",
       "      <td>8.042911e+04</td>\n",
       "    </tr>\n",
       "    <tr>\n",
       "      <th>min</th>\n",
       "      <td>0.000000</td>\n",
       "      <td>1.000000e+00</td>\n",
       "      <td>0.000000</td>\n",
       "      <td>0.000000</td>\n",
       "      <td>0.002100</td>\n",
       "      <td>-43.738000</td>\n",
       "      <td>0.000000</td>\n",
       "      <td>1.516000e+04</td>\n",
       "    </tr>\n",
       "    <tr>\n",
       "      <th>25%</th>\n",
       "      <td>50.000000</td>\n",
       "      <td>3.866500e+04</td>\n",
       "      <td>41.000000</td>\n",
       "      <td>0.489000</td>\n",
       "      <td>0.494000</td>\n",
       "      <td>-9.375500</td>\n",
       "      <td>95.970500</td>\n",
       "      <td>1.757205e+05</td>\n",
       "    </tr>\n",
       "    <tr>\n",
       "      <th>50%</th>\n",
       "      <td>64.000000</td>\n",
       "      <td>3.989960e+05</td>\n",
       "      <td>54.000000</td>\n",
       "      <td>0.613000</td>\n",
       "      <td>0.672000</td>\n",
       "      <td>-6.762500</td>\n",
       "      <td>119.956500</td>\n",
       "      <td>2.084655e+05</td>\n",
       "    </tr>\n",
       "    <tr>\n",
       "      <th>75%</th>\n",
       "      <td>75.000000</td>\n",
       "      <td>2.322952e+06</td>\n",
       "      <td>66.000000</td>\n",
       "      <td>0.729000</td>\n",
       "      <td>0.823000</td>\n",
       "      <td>-5.028750</td>\n",
       "      <td>140.008250</td>\n",
       "      <td>2.494832e+05</td>\n",
       "    </tr>\n",
       "    <tr>\n",
       "      <th>max</th>\n",
       "      <td>100.000000</td>\n",
       "      <td>9.112716e+07</td>\n",
       "      <td>100.000000</td>\n",
       "      <td>0.981000</td>\n",
       "      <td>1.000000</td>\n",
       "      <td>0.763000</td>\n",
       "      <td>216.194000</td>\n",
       "      <td>1.252322e+06</td>\n",
       "    </tr>\n",
       "  </tbody>\n",
       "</table>\n",
       "</div>"
      ],
      "text/plain": [
       "       artist_popularity  artist_followers  track_popularity  \\\n",
       "count        8052.000000      8.052000e+03       8052.000000   \n",
       "mean           62.328738      3.816801e+06         49.513413   \n",
       "std            17.501853      1.020761e+07         23.536597   \n",
       "min             0.000000      1.000000e+00          0.000000   \n",
       "25%            50.000000      3.866500e+04         41.000000   \n",
       "50%            64.000000      3.989960e+05         54.000000   \n",
       "75%            75.000000      2.322952e+06         66.000000   \n",
       "max           100.000000      9.112716e+07        100.000000   \n",
       "\n",
       "       track_danceability  track_energy  track_loudness  track_tempo  \\\n",
       "count         8052.000000   8052.000000     8052.000000  8052.000000   \n",
       "mean             0.601675      0.637045       -7.929202   120.160684   \n",
       "std              0.171643      0.233869        4.481629    29.810634   \n",
       "min              0.000000      0.002100      -43.738000     0.000000   \n",
       "25%              0.489000      0.494000       -9.375500    95.970500   \n",
       "50%              0.613000      0.672000       -6.762500   119.956500   \n",
       "75%              0.729000      0.823000       -5.028750   140.008250   \n",
       "max              0.981000      1.000000        0.763000   216.194000   \n",
       "\n",
       "       track_duration_ms  \n",
       "count       8.052000e+03  \n",
       "mean        2.221100e+05  \n",
       "std         8.042911e+04  \n",
       "min         1.516000e+04  \n",
       "25%         1.757205e+05  \n",
       "50%         2.084655e+05  \n",
       "75%         2.494832e+05  \n",
       "max         1.252322e+06  "
      ]
     },
     "execution_count": 67,
     "metadata": {},
     "output_type": "execute_result"
    }
   ],
   "source": [
    "df.describe()"
   ]
  },
  {
   "cell_type": "code",
   "execution_count": 133,
   "metadata": {},
   "outputs": [],
   "source": [
    "X = df.drop(columns=[\"is_explicit_content\", \"artist_genres\"])\n",
    "y = df[\"is_explicit_content\"]"
   ]
  },
  {
   "cell_type": "code",
   "execution_count": 36,
   "metadata": {},
   "outputs": [
    {
     "data": {
      "text/html": [
       "<div>\n",
       "<style scoped>\n",
       "    .dataframe tbody tr th:only-of-type {\n",
       "        vertical-align: middle;\n",
       "    }\n",
       "\n",
       "    .dataframe tbody tr th {\n",
       "        vertical-align: top;\n",
       "    }\n",
       "\n",
       "    .dataframe thead th {\n",
       "        text-align: right;\n",
       "    }\n",
       "</style>\n",
       "<table border=\"1\" class=\"dataframe\">\n",
       "  <thead>\n",
       "    <tr style=\"text-align: right;\">\n",
       "      <th></th>\n",
       "      <th>artist_name</th>\n",
       "      <th>artist_popularity</th>\n",
       "      <th>artist_followers</th>\n",
       "      <th>artist_genres</th>\n",
       "      <th>track_popularity</th>\n",
       "      <th>track_danceability</th>\n",
       "      <th>track_energy</th>\n",
       "      <th>track_loudness</th>\n",
       "      <th>track_tempo</th>\n",
       "      <th>track_duration_ms</th>\n",
       "      <th>is_explicit_content</th>\n",
       "      <th>words_count</th>\n",
       "    </tr>\n",
       "  </thead>\n",
       "  <tbody>\n",
       "    <tr>\n",
       "      <th>0</th>\n",
       "      <td>1308</td>\n",
       "      <td>0.86</td>\n",
       "      <td>0.025819</td>\n",
       "      <td>('gauze pop', 'indietronica', 'shiver pop')</td>\n",
       "      <td>0.90</td>\n",
       "      <td>0.761</td>\n",
       "      <td>0.525</td>\n",
       "      <td>0.758196</td>\n",
       "      <td>0.240555</td>\n",
       "      <td>0.215929</td>\n",
       "      <td>0.0</td>\n",
       "      <td>411.0</td>\n",
       "    </tr>\n",
       "    <tr>\n",
       "      <th>1</th>\n",
       "      <td>1261</td>\n",
       "      <td>0.85</td>\n",
       "      <td>0.002405</td>\n",
       "      <td>()</td>\n",
       "      <td>1.00</td>\n",
       "      <td>0.695</td>\n",
       "      <td>0.540</td>\n",
       "      <td>0.796314</td>\n",
       "      <td>0.470997</td>\n",
       "      <td>0.148148</td>\n",
       "      <td>1.0</td>\n",
       "      <td>343.0</td>\n",
       "    </tr>\n",
       "    <tr>\n",
       "      <th>2</th>\n",
       "      <td>3336</td>\n",
       "      <td>0.90</td>\n",
       "      <td>0.035248</td>\n",
       "      <td>('australian hip hop',)</td>\n",
       "      <td>0.97</td>\n",
       "      <td>0.591</td>\n",
       "      <td>0.764</td>\n",
       "      <td>0.802878</td>\n",
       "      <td>0.740353</td>\n",
       "      <td>0.122277</td>\n",
       "      <td>1.0</td>\n",
       "      <td>606.0</td>\n",
       "    </tr>\n",
       "    <tr>\n",
       "      <th>3</th>\n",
       "      <td>1067</td>\n",
       "      <td>0.90</td>\n",
       "      <td>0.094098</td>\n",
       "      <td>('glam rock', 'mellow gold', 'piano rock')</td>\n",
       "      <td>0.96</td>\n",
       "      <td>0.796</td>\n",
       "      <td>0.798</td>\n",
       "      <td>0.776750</td>\n",
       "      <td>0.437886</td>\n",
       "      <td>0.181104</td>\n",
       "      <td>0.0</td>\n",
       "      <td>280.0</td>\n",
       "    </tr>\n",
       "    <tr>\n",
       "      <th>4</th>\n",
       "      <td>74</td>\n",
       "      <td>0.94</td>\n",
       "      <td>0.363534</td>\n",
       "      <td>('british soul', 'pop', 'pop soul', 'uk pop')</td>\n",
       "      <td>0.97</td>\n",
       "      <td>0.604</td>\n",
       "      <td>0.366</td>\n",
       "      <td>0.738664</td>\n",
       "      <td>0.583513</td>\n",
       "      <td>0.202306</td>\n",
       "      <td>0.0</td>\n",
       "      <td>208.0</td>\n",
       "    </tr>\n",
       "    <tr>\n",
       "      <th>...</th>\n",
       "      <td>...</td>\n",
       "      <td>...</td>\n",
       "      <td>...</td>\n",
       "      <td>...</td>\n",
       "      <td>...</td>\n",
       "      <td>...</td>\n",
       "      <td>...</td>\n",
       "      <td>...</td>\n",
       "      <td>...</td>\n",
       "      <td>...</td>\n",
       "      <td>...</td>\n",
       "      <td>...</td>\n",
       "    </tr>\n",
       "    <tr>\n",
       "      <th>6192</th>\n",
       "      <td>40</td>\n",
       "      <td>0.38</td>\n",
       "      <td>0.000036</td>\n",
       "      <td>()</td>\n",
       "      <td>0.32</td>\n",
       "      <td>0.792</td>\n",
       "      <td>0.873</td>\n",
       "      <td>0.703859</td>\n",
       "      <td>0.488192</td>\n",
       "      <td>0.213380</td>\n",
       "      <td>0.0</td>\n",
       "      <td>1547.0</td>\n",
       "    </tr>\n",
       "    <tr>\n",
       "      <th>6194</th>\n",
       "      <td>1892</td>\n",
       "      <td>0.76</td>\n",
       "      <td>0.015724</td>\n",
       "      <td>('australian dance', 'australian pop', 'dance ...</td>\n",
       "      <td>0.57</td>\n",
       "      <td>0.767</td>\n",
       "      <td>0.643</td>\n",
       "      <td>0.780979</td>\n",
       "      <td>0.460048</td>\n",
       "      <td>0.239186</td>\n",
       "      <td>0.0</td>\n",
       "      <td>382.0</td>\n",
       "    </tr>\n",
       "    <tr>\n",
       "      <th>6195</th>\n",
       "      <td>1841</td>\n",
       "      <td>0.43</td>\n",
       "      <td>0.000185</td>\n",
       "      <td>('vogue',)</td>\n",
       "      <td>0.37</td>\n",
       "      <td>0.803</td>\n",
       "      <td>0.888</td>\n",
       "      <td>0.748730</td>\n",
       "      <td>0.465677</td>\n",
       "      <td>0.303804</td>\n",
       "      <td>0.0</td>\n",
       "      <td>369.0</td>\n",
       "    </tr>\n",
       "    <tr>\n",
       "      <th>6196</th>\n",
       "      <td>1750</td>\n",
       "      <td>0.72</td>\n",
       "      <td>0.010305</td>\n",
       "      <td>('escape room', 'indie soul', 'lgbtq+ hip hop')</td>\n",
       "      <td>0.69</td>\n",
       "      <td>0.794</td>\n",
       "      <td>0.757</td>\n",
       "      <td>0.766274</td>\n",
       "      <td>0.392754</td>\n",
       "      <td>0.165603</td>\n",
       "      <td>0.0</td>\n",
       "      <td>340.0</td>\n",
       "    </tr>\n",
       "    <tr>\n",
       "      <th>6197</th>\n",
       "      <td>555</td>\n",
       "      <td>0.24</td>\n",
       "      <td>0.000014</td>\n",
       "      <td>()</td>\n",
       "      <td>0.35</td>\n",
       "      <td>0.749</td>\n",
       "      <td>0.547</td>\n",
       "      <td>0.618030</td>\n",
       "      <td>0.510674</td>\n",
       "      <td>0.344675</td>\n",
       "      <td>0.0</td>\n",
       "      <td>385.0</td>\n",
       "    </tr>\n",
       "  </tbody>\n",
       "</table>\n",
       "<p>5426 rows × 12 columns</p>\n",
       "</div>"
      ],
      "text/plain": [
       "     artist_name  artist_popularity  artist_followers  \\\n",
       "0           1308               0.86          0.025819   \n",
       "1           1261               0.85          0.002405   \n",
       "2           3336               0.90          0.035248   \n",
       "3           1067               0.90          0.094098   \n",
       "4             74               0.94          0.363534   \n",
       "...          ...                ...               ...   \n",
       "6192          40               0.38          0.000036   \n",
       "6194        1892               0.76          0.015724   \n",
       "6195        1841               0.43          0.000185   \n",
       "6196        1750               0.72          0.010305   \n",
       "6197         555               0.24          0.000014   \n",
       "\n",
       "                                          artist_genres  track_popularity  \\\n",
       "0           ('gauze pop', 'indietronica', 'shiver pop')              0.90   \n",
       "1                                                    ()              1.00   \n",
       "2                               ('australian hip hop',)              0.97   \n",
       "3            ('glam rock', 'mellow gold', 'piano rock')              0.96   \n",
       "4         ('british soul', 'pop', 'pop soul', 'uk pop')              0.97   \n",
       "...                                                 ...               ...   \n",
       "6192                                                 ()              0.32   \n",
       "6194  ('australian dance', 'australian pop', 'dance ...              0.57   \n",
       "6195                                         ('vogue',)              0.37   \n",
       "6196    ('escape room', 'indie soul', 'lgbtq+ hip hop')              0.69   \n",
       "6197                                                 ()              0.35   \n",
       "\n",
       "      track_danceability  track_energy  track_loudness  track_tempo  \\\n",
       "0                  0.761         0.525        0.758196     0.240555   \n",
       "1                  0.695         0.540        0.796314     0.470997   \n",
       "2                  0.591         0.764        0.802878     0.740353   \n",
       "3                  0.796         0.798        0.776750     0.437886   \n",
       "4                  0.604         0.366        0.738664     0.583513   \n",
       "...                  ...           ...             ...          ...   \n",
       "6192               0.792         0.873        0.703859     0.488192   \n",
       "6194               0.767         0.643        0.780979     0.460048   \n",
       "6195               0.803         0.888        0.748730     0.465677   \n",
       "6196               0.794         0.757        0.766274     0.392754   \n",
       "6197               0.749         0.547        0.618030     0.510674   \n",
       "\n",
       "      track_duration_ms is_explicit_content  words_count  \n",
       "0              0.215929                 0.0        411.0  \n",
       "1              0.148148                 1.0        343.0  \n",
       "2              0.122277                 1.0        606.0  \n",
       "3              0.181104                 0.0        280.0  \n",
       "4              0.202306                 0.0        208.0  \n",
       "...                 ...                 ...          ...  \n",
       "6192           0.213380                 0.0       1547.0  \n",
       "6194           0.239186                 0.0        382.0  \n",
       "6195           0.303804                 0.0        369.0  \n",
       "6196           0.165603                 0.0        340.0  \n",
       "6197           0.344675                 0.0        385.0  \n",
       "\n",
       "[5426 rows x 12 columns]"
      ]
     },
     "execution_count": 36,
     "metadata": {},
     "output_type": "execute_result"
    }
   ],
   "source": [
    "df.dropna()"
   ]
  },
  {
   "cell_type": "markdown",
   "metadata": {},
   "source": [
    "# All in one"
   ]
  },
  {
   "cell_type": "code",
   "execution_count": 134,
   "metadata": {},
   "outputs": [],
   "source": [
    "X_train, X_test, y_train, y_test = train_test_split(X, y, test_size=0.3, random_state=1)"
   ]
  },
  {
   "cell_type": "code",
   "execution_count": 135,
   "metadata": {},
   "outputs": [],
   "source": [
    "from sklearn.ensemble import RandomForestClassifier\n",
    "from sklearn.neighbors import KNeighborsClassifier\n",
    "from sklearn.tree import DecisionTreeClassifier\n",
    "from sklearn.linear_model import LogisticRegression\n",
    "\n",
    "clf1 = DecisionTreeClassifier()\n",
    "clf2 = RandomForestClassifier(n_estimators=200)\n",
    "clf3 = KNeighborsClassifier(n_neighbors=4)\n",
    "clf4 = LogisticRegression()\n",
    "alg_names = [\"decision tree\", \"random forest\", \"KNN\", \"logistic regression\"]"
   ]
  },
  {
   "cell_type": "code",
   "execution_count": 136,
   "metadata": {},
   "outputs": [
    {
     "data": {
      "text/plain": [
       "artist_name            0\n",
       "artist_popularity      0\n",
       "artist_followers       0\n",
       "artist_genres          0\n",
       "track_popularity       0\n",
       "track_danceability     0\n",
       "track_energy           0\n",
       "track_loudness         0\n",
       "track_tempo            0\n",
       "track_duration_ms      0\n",
       "is_explicit_content    0\n",
       "words_count            0\n",
       "dtype: int64"
      ]
     },
     "execution_count": 136,
     "metadata": {},
     "output_type": "execute_result"
    }
   ],
   "source": [
    "df.isnull().sum()"
   ]
  },
  {
   "cell_type": "code",
   "execution_count": 137,
   "metadata": {},
   "outputs": [
    {
     "name": "stdout",
     "output_type": "stream",
     "text": [
      "decision tree\n",
      "==========================\n",
      "f1 on Train data=  1.0\n",
      "f1 on test data=  0.565365025466893\n",
      "\n",
      "random forest\n",
      "==========================\n",
      "f1 on Train data=  1.0\n",
      "f1 on test data=  0.666046511627907\n",
      "\n",
      "KNN\n",
      "==========================\n",
      "f1 on Train data=  0.5453690644099671\n",
      "f1 on test data=  0.357396449704142\n",
      "\n",
      "logistic regression\n",
      "==========================\n",
      "f1 on Train data=  0.020242914979757085\n",
      "f1 on test data=  0.032679738562091505\n",
      "\n",
      "(7067, 12)\n"
     ]
    }
   ],
   "source": [
    "for idx, clf in enumerate([clf1, clf2, clf3, clf4]):\n",
    "    clf.fit(X_train, y_train)\n",
    "    y_pred_train = clf.predict(X_train)\n",
    "    y_pred = clf.predict(X_test)\n",
    "    \n",
    "#     print(clf.feature_importances_)\n",
    "    \n",
    "    print(alg_names[idx])\n",
    "    print(\"==========================\")\n",
    "#     print(f\"\\tTrain data\")\n",
    "#     print(\"\\t==========================\")\n",
    "#     print(f\"{metrics.classification_report(y_true = y_train, y_pred = y_pred_train)}\")\n",
    "#     print(f\"\\tTest data\")\n",
    "#     print(\"\\t==========================\")\n",
    "#     print(f\"{metrics.classification_report(y_true = y_test, y_pred = y_pred)}\")\n",
    "\n",
    "\n",
    "    print('f1 on Train data= ', metrics.f1_score(y_true = y_train, y_pred = y_pred_train))\n",
    "    print('f1 on test data= ', metrics.f1_score(y_true = y_test, y_pred = y_pred))\n",
    "#     print('Accuracy on Train data= ', metrics.accuracy_score(y_true = y_train, y_pred = y_pred_train))\n",
    "#     print('Accuracy on test data= ', metrics.accuracy_score(y_true = y_test, y_pred = y_pred))\n",
    "    print()\n",
    "\n",
    "print(df.shape)"
   ]
  },
  {
   "cell_type": "code",
   "execution_count": 140,
   "metadata": {},
   "outputs": [
    {
     "name": "stdout",
     "output_type": "stream",
     "text": [
      "decision tree\n",
      "==========================\n",
      "best params are: {'max_depth': 9, 'min_samples_split': 7}\n",
      "best score is: 0.7904427998445333\n",
      "random forest\n",
      "==========================\n",
      "best params are: {'max_depth': 15, 'n_estimators': 250}\n",
      "best score is: 0.8239737389360142\n",
      "KNN\n",
      "==========================\n",
      "best params are: {'n_neighbors': 4}\n",
      "best score is: 0.7218058187850351\n"
     ]
    }
   ],
   "source": [
    "from sklearn.model_selection import GridSearchCV\n",
    "\n",
    "params_decision_tree = {\"max_depth\": [7,9,15], \"min_samples_split\": [3,5,7,10]}\n",
    "params_random_forest = {\"n_estimators\": [150,200, 250],\"max_depth\": [9,15,17]}\n",
    "params_knn = {\"n_neighbors\": range(3, 20)}\n",
    "\n",
    "clf_params = [(DecisionTreeClassifier(), params_decision_tree),\n",
    "             (RandomForestClassifier(), params_random_forest), \n",
    "             (KNeighborsClassifier(), params_knn)]\n",
    "             \n",
    "\n",
    "for idx, (clf, params) in enumerate(clf_params):\n",
    "    clf_cv = GridSearchCV(clf,params,cv=10)\n",
    "    clf_cv.fit(X,y)\n",
    "    print(alg_names[idx])\n",
    "    print(\"==========================\")\n",
    "    print(f\"best params are: {clf_cv.best_params_}\")\n",
    "    print(f\"best score is: {clf_cv.best_score_}\")"
   ]
  },
  {
   "cell_type": "code",
   "execution_count": null,
   "metadata": {},
   "outputs": [],
   "source": []
  }
 ],
 "metadata": {
  "kernelspec": {
   "display_name": "Python 3",
   "language": "python",
   "name": "python3"
  },
  "language_info": {
   "codemirror_mode": {
    "name": "ipython",
    "version": 3
   },
   "file_extension": ".py",
   "mimetype": "text/x-python",
   "name": "python",
   "nbconvert_exporter": "python",
   "pygments_lexer": "ipython3",
   "version": "3.8.5"
  }
 },
 "nbformat": 4,
 "nbformat_minor": 5
}
