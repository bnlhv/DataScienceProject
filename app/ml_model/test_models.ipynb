{
 "cells": [
  {
   "cell_type": "code",
   "execution_count": 712,
   "metadata": {},
   "outputs": [],
   "source": [
    "import pandas as pd\n",
    "from pathlib import Path\n",
    "from sklearn.model_selection import train_test_split\n",
    "import numpy as np\n",
    "from sklearn import metrics \n",
    "from sklearn import svm"
   ]
  },
  {
   "cell_type": "code",
   "execution_count": 713,
   "metadata": {},
   "outputs": [
    {
     "name": "stdout",
     "output_type": "stream",
     "text": [
      "(4628, 27)\n"
     ]
    }
   ],
   "source": [
    "#read in the data using pandas\n",
    "df = pd.read_csv(Path.cwd().parent / \"data\" / \"07_final_dataset.csv\")\n",
    "df_raw = pd.read_csv(Path.cwd().parent / \"data\" / \"05_dataset_before_corr_mat.csv\")\n",
    "to_drop = [col for col in df.columns if \"Unnamed\" in col.split(\":\")]\n",
    "df = df.drop(columns=to_drop)\n",
    "print(df.shape)"
   ]
  },
  {
   "cell_type": "code",
   "execution_count": 714,
   "metadata": {},
   "outputs": [],
   "source": [
    "# usa = 1 else = 0\n",
    "df.loc[df[\"country_code\"] == \"840\", \"country_code\"] = 1\n",
    "df.loc[df[\"country_code\"] != \"840\", \"country_code\"] = 0\n",
    "df[\"country_code\"] = df[\"country_code\"].astype(bool).astype(\"category\")"
   ]
  },
  {
   "cell_type": "code",
   "execution_count": 715,
   "metadata": {},
   "outputs": [],
   "source": [
    "df[\"artist_name\"] = df[\"artist_name\"].astype(\"category\")"
   ]
  },
  {
   "cell_type": "code",
   "execution_count": 716,
   "metadata": {},
   "outputs": [
    {
     "data": {
      "text/plain": [
       "Int64Index([304], dtype='int64')"
      ]
     },
     "execution_count": 716,
     "metadata": {},
     "output_type": "execute_result"
    },
    {
     "data": {
      "image/png": "[encoded data removed]",
      "text/plain": [
       "<Figure size 432x288 with 1 Axes>"
      ]
     },
     "metadata": {
      "needs_background": "light"
     },
     "output_type": "display_data"
    }
   ],
   "source": [
    "# from matplotlib import pyplot as plt\n",
    "idx = df.loc[df[\"words_count\"] == df[\"words_count\"].max(), :].index\n",
    "df[\"words_count\"].plot()\n",
    "idx"
   ]
  },
  {
   "cell_type": "code",
   "execution_count": 717,
   "metadata": {},
   "outputs": [
    {
     "data": {
      "text/plain": [
       "Int64Index([ 256,  272,  274,  275,  276,  283,  292,  294,  295,  303,  304,\n",
       "             375,  377,  378,  947, 1110, 1582, 1598, 1631, 1708, 1728, 2201,\n",
       "            2271, 2281, 2385, 2873, 2908, 3092, 3416, 3435, 3440, 3700, 3735,\n",
       "            4345],\n",
       "           dtype='int64')"
      ]
     },
     "execution_count": 717,
     "metadata": {},
     "output_type": "execute_result"
    }
   ],
   "source": [
    "idx = df.loc[df[\"words_count\"] > 10000, :].index\n",
    "idx"
   ]
  },
  {
   "cell_type": "code",
   "execution_count": 718,
   "metadata": {},
   "outputs": [],
   "source": [
    "df.drop(index=idx, inplace=True)"
   ]
  },
  {
   "cell_type": "code",
   "execution_count": 719,
   "metadata": {},
   "outputs": [],
   "source": [
    "# df.loc[df[\"words_count\"] < 250, \"words_count\"] = 0\n",
    "df.loc[df[\"words_count\"] < 350, \"words_count\"] = 0\n",
    "# df.loc[np.logical_and(df[\"words_count\"] >= 250, df[\"words_count\"] < 500), \"words_count\"] = 1\n",
    "df.loc[df[\"words_count\"] >= 350, \"words_count\"] = 1\n",
    "# df.loc[df[\"words_count\"] >= 500, \"words_count\"] = 2\n",
    "df[\"words_count\"] = df[\"words_count\"].astype(\"category\")"
   ]
  },
  {
   "cell_type": "code",
   "execution_count": 720,
   "metadata": {},
   "outputs": [],
   "source": [
    "# for j, row in df1.iterrows():\n",
    "#      if 0 < df1.loc[j, \"words_count\"] < \n",
    "#         df1.loc[j, \"words_count\"] = 1 if df1.loc[j, \"words_count\"] > med else 0\n",
    "# df1[\"words_count\"] = df1[\"words_count\"].astype(bool).astype(\"category\")"
   ]
  },
  {
   "cell_type": "markdown",
   "metadata": {},
   "source": [
    "# Remove Outliers"
   ]
  },
  {
   "cell_type": "code",
   "execution_count": 721,
   "metadata": {},
   "outputs": [
    {
     "name": "stdout",
     "output_type": "stream",
     "text": [
      "Number of indexes with 30% outliers of it's content are: 0\n"
     ]
    }
   ],
   "source": [
    "# take all numerics\n",
    "quatiative = df.select_dtypes(exclude=['category'])\n",
    "\n",
    "# boundaries for chaking outliers\n",
    "upper_bound = quatiative.mean() + 3 * quatiative.std()\n",
    "lower_bound = quatiative.mean() - 3 * quatiative.std()\n",
    "\n",
    "outliers = []\n",
    "\n",
    "for num, row in quatiative.iterrows():\n",
    "    outliers_in_row = [1 for col in quatiative.columns if row[col] > upper_bound[col] or row[col] < lower_bound[col]].count(1)    \n",
    "    # add this index(row) if 15% of it's content is outlaiered\n",
    "    if outliers_in_row > 0.1 * len(row):\n",
    "        outliers.append(num)\n",
    "\n",
    "print(f\"Number of indexes with 30% outliers of it's content are: {outliers}\")"
   ]
  },
  {
   "cell_type": "code",
   "execution_count": 722,
   "metadata": {},
   "outputs": [],
   "source": [
    "df[\"is_explicit_content\"] = df[\"is_explicit_content\"].astype(\"int\").astype(\"category\")\n",
    "\n",
    "genres = ['pop', 'rock', 'rap', 'country', 'edm', 'house', 'metal', 'soul', 'r&b', 'electro',\n",
    "          'hip hop', 'funk', 'folk', 'disco', 'other_genre']\n",
    "# for c in genres:\n",
    "#     df[c] = df[c].astype(\"category\")"
   ]
  },
  {
   "cell_type": "code",
   "execution_count": 723,
   "metadata": {},
   "outputs": [
    {
     "data": {
      "text/plain": [
       "artist_name            category\n",
       "artist_popularity         int64\n",
       "artist_followers          int64\n",
       "track_popularity          int64\n",
       "track_danceability      float64\n",
       "track_energy            float64\n",
       "track_loudness          float64\n",
       "track_tempo             float64\n",
       "track_duration_ms         int64\n",
       "is_explicit_content    category\n",
       "words_count            category\n",
       "country_code           category\n",
       "pop                       int64\n",
       "rock                      int64\n",
       "rap                       int64\n",
       "country                   int64\n",
       "edm                       int64\n",
       "house                     int64\n",
       "metal                     int64\n",
       "soul                      int64\n",
       "r&b                       int64\n",
       "electro                   int64\n",
       "hip hop                   int64\n",
       "funk                      int64\n",
       "folk                      int64\n",
       "disco                     int64\n",
       "other_genre               int64\n",
       "dtype: object"
      ]
     },
     "execution_count": 723,
     "metadata": {},
     "output_type": "execute_result"
    }
   ],
   "source": [
    "df.dtypes"
   ]
  },
  {
   "cell_type": "markdown",
   "metadata": {},
   "source": [
    "# Normalization"
   ]
  },
  {
   "cell_type": "code",
   "execution_count": 724,
   "metadata": {},
   "outputs": [],
   "source": [
    "# df.describe()"
   ]
  },
  {
   "cell_type": "code",
   "execution_count": 725,
   "metadata": {},
   "outputs": [],
   "source": [
    "from sklearn.preprocessing import MinMaxScaler\n",
    "cols_to_scale = [\"artist_popularity\",\"artist_followers\",\"track_popularity\", \"track_tempo\", \"track_loudness\", \"track_duration_ms\"]\n",
    "for c in cols_to_scale:\n",
    "    scaler = MinMaxScaler() \n",
    "    scaled_values = scaler.fit_transform(df[c].to_numpy().reshape(-1, 1)) \n",
    "    df.loc[:,c] = scaled_values"
   ]
  },
  {
   "cell_type": "code",
   "execution_count": 726,
   "metadata": {},
   "outputs": [
    {
     "data": {
      "text/html": [
       "<div>\n",
       "<style scoped>\n",
       "    .dataframe tbody tr th:only-of-type {\n",
       "        vertical-align: middle;\n",
       "    }\n",
       "\n",
       "    .dataframe tbody tr th {\n",
       "        vertical-align: top;\n",
       "    }\n",
       "\n",
       "    .dataframe thead th {\n",
       "        text-align: right;\n",
       "    }\n",
       "</style>\n",
       "<table border=\"1\" class=\"dataframe\">\n",
       "  <thead>\n",
       "    <tr style=\"text-align: right;\">\n",
       "      <th></th>\n",
       "      <th>artist_popularity</th>\n",
       "      <th>artist_followers</th>\n",
       "      <th>track_popularity</th>\n",
       "      <th>track_danceability</th>\n",
       "      <th>track_energy</th>\n",
       "      <th>track_loudness</th>\n",
       "      <th>track_tempo</th>\n",
       "      <th>track_duration_ms</th>\n",
       "      <th>pop</th>\n",
       "      <th>rock</th>\n",
       "      <th>...</th>\n",
       "      <th>house</th>\n",
       "      <th>metal</th>\n",
       "      <th>soul</th>\n",
       "      <th>r&amp;b</th>\n",
       "      <th>electro</th>\n",
       "      <th>hip hop</th>\n",
       "      <th>funk</th>\n",
       "      <th>folk</th>\n",
       "      <th>disco</th>\n",
       "      <th>other_genre</th>\n",
       "    </tr>\n",
       "  </thead>\n",
       "  <tbody>\n",
       "    <tr>\n",
       "      <th>count</th>\n",
       "      <td>4594.000000</td>\n",
       "      <td>4594.000000</td>\n",
       "      <td>4594.000000</td>\n",
       "      <td>4594.000000</td>\n",
       "      <td>4594.000000</td>\n",
       "      <td>4594.000000</td>\n",
       "      <td>4594.000000</td>\n",
       "      <td>4594.000000</td>\n",
       "      <td>4594.000000</td>\n",
       "      <td>4594.000000</td>\n",
       "      <td>...</td>\n",
       "      <td>4594.000000</td>\n",
       "      <td>4594.000000</td>\n",
       "      <td>4594.000000</td>\n",
       "      <td>4594.000000</td>\n",
       "      <td>4594.000000</td>\n",
       "      <td>4594.000000</td>\n",
       "      <td>4594.000000</td>\n",
       "      <td>4594.000000</td>\n",
       "      <td>4594.000000</td>\n",
       "      <td>4594.000000</td>\n",
       "    </tr>\n",
       "    <tr>\n",
       "      <th>mean</th>\n",
       "      <td>0.653502</td>\n",
       "      <td>0.064251</td>\n",
       "      <td>0.545261</td>\n",
       "      <td>0.603929</td>\n",
       "      <td>0.670435</td>\n",
       "      <td>0.775219</td>\n",
       "      <td>0.455918</td>\n",
       "      <td>0.201867</td>\n",
       "      <td>0.194384</td>\n",
       "      <td>0.177405</td>\n",
       "      <td>...</td>\n",
       "      <td>0.012190</td>\n",
       "      <td>0.070091</td>\n",
       "      <td>0.031781</td>\n",
       "      <td>0.041576</td>\n",
       "      <td>0.002830</td>\n",
       "      <td>0.130605</td>\n",
       "      <td>0.015237</td>\n",
       "      <td>0.018720</td>\n",
       "      <td>0.013278</td>\n",
       "      <td>0.316282</td>\n",
       "    </tr>\n",
       "    <tr>\n",
       "      <th>std</th>\n",
       "      <td>0.157266</td>\n",
       "      <td>0.133210</td>\n",
       "      <td>0.255206</td>\n",
       "      <td>0.168816</td>\n",
       "      <td>0.203012</td>\n",
       "      <td>0.107722</td>\n",
       "      <td>0.178985</td>\n",
       "      <td>0.065454</td>\n",
       "      <td>0.395769</td>\n",
       "      <td>0.382053</td>\n",
       "      <td>...</td>\n",
       "      <td>0.109744</td>\n",
       "      <td>0.255329</td>\n",
       "      <td>0.175435</td>\n",
       "      <td>0.199640</td>\n",
       "      <td>0.053126</td>\n",
       "      <td>0.337005</td>\n",
       "      <td>0.122509</td>\n",
       "      <td>0.135549</td>\n",
       "      <td>0.114476</td>\n",
       "      <td>0.465075</td>\n",
       "    </tr>\n",
       "    <tr>\n",
       "      <th>min</th>\n",
       "      <td>0.000000</td>\n",
       "      <td>0.000000</td>\n",
       "      <td>0.000000</td>\n",
       "      <td>0.068900</td>\n",
       "      <td>0.004700</td>\n",
       "      <td>0.000000</td>\n",
       "      <td>0.000000</td>\n",
       "      <td>0.000000</td>\n",
       "      <td>0.000000</td>\n",
       "      <td>0.000000</td>\n",
       "      <td>...</td>\n",
       "      <td>0.000000</td>\n",
       "      <td>0.000000</td>\n",
       "      <td>0.000000</td>\n",
       "      <td>0.000000</td>\n",
       "      <td>0.000000</td>\n",
       "      <td>0.000000</td>\n",
       "      <td>0.000000</td>\n",
       "      <td>0.000000</td>\n",
       "      <td>0.000000</td>\n",
       "      <td>0.000000</td>\n",
       "    </tr>\n",
       "    <tr>\n",
       "      <th>25%</th>\n",
       "      <td>0.564706</td>\n",
       "      <td>0.003673</td>\n",
       "      <td>0.469388</td>\n",
       "      <td>0.492000</td>\n",
       "      <td>0.539000</td>\n",
       "      <td>0.732534</td>\n",
       "      <td>0.308261</td>\n",
       "      <td>0.161731</td>\n",
       "      <td>0.000000</td>\n",
       "      <td>0.000000</td>\n",
       "      <td>...</td>\n",
       "      <td>0.000000</td>\n",
       "      <td>0.000000</td>\n",
       "      <td>0.000000</td>\n",
       "      <td>0.000000</td>\n",
       "      <td>0.000000</td>\n",
       "      <td>0.000000</td>\n",
       "      <td>0.000000</td>\n",
       "      <td>0.000000</td>\n",
       "      <td>0.000000</td>\n",
       "      <td>0.000000</td>\n",
       "    </tr>\n",
       "    <tr>\n",
       "      <th>50%</th>\n",
       "      <td>0.658824</td>\n",
       "      <td>0.014313</td>\n",
       "      <td>0.612245</td>\n",
       "      <td>0.613000</td>\n",
       "      <td>0.695000</td>\n",
       "      <td>0.797957</td>\n",
       "      <td>0.451688</td>\n",
       "      <td>0.191700</td>\n",
       "      <td>0.000000</td>\n",
       "      <td>0.000000</td>\n",
       "      <td>...</td>\n",
       "      <td>0.000000</td>\n",
       "      <td>0.000000</td>\n",
       "      <td>0.000000</td>\n",
       "      <td>0.000000</td>\n",
       "      <td>0.000000</td>\n",
       "      <td>0.000000</td>\n",
       "      <td>0.000000</td>\n",
       "      <td>0.000000</td>\n",
       "      <td>0.000000</td>\n",
       "      <td>0.000000</td>\n",
       "    </tr>\n",
       "    <tr>\n",
       "      <th>75%</th>\n",
       "      <td>0.764706</td>\n",
       "      <td>0.057374</td>\n",
       "      <td>0.714286</td>\n",
       "      <td>0.728000</td>\n",
       "      <td>0.833000</td>\n",
       "      <td>0.849511</td>\n",
       "      <td>0.573721</td>\n",
       "      <td>0.228939</td>\n",
       "      <td>0.000000</td>\n",
       "      <td>0.000000</td>\n",
       "      <td>...</td>\n",
       "      <td>0.000000</td>\n",
       "      <td>0.000000</td>\n",
       "      <td>0.000000</td>\n",
       "      <td>0.000000</td>\n",
       "      <td>0.000000</td>\n",
       "      <td>0.000000</td>\n",
       "      <td>0.000000</td>\n",
       "      <td>0.000000</td>\n",
       "      <td>0.000000</td>\n",
       "      <td>1.000000</td>\n",
       "    </tr>\n",
       "    <tr>\n",
       "      <th>max</th>\n",
       "      <td>1.000000</td>\n",
       "      <td>1.000000</td>\n",
       "      <td>1.000000</td>\n",
       "      <td>0.981000</td>\n",
       "      <td>1.000000</td>\n",
       "      <td>1.000000</td>\n",
       "      <td>1.000000</td>\n",
       "      <td>1.000000</td>\n",
       "      <td>1.000000</td>\n",
       "      <td>1.000000</td>\n",
       "      <td>...</td>\n",
       "      <td>1.000000</td>\n",
       "      <td>1.000000</td>\n",
       "      <td>1.000000</td>\n",
       "      <td>1.000000</td>\n",
       "      <td>1.000000</td>\n",
       "      <td>1.000000</td>\n",
       "      <td>1.000000</td>\n",
       "      <td>1.000000</td>\n",
       "      <td>1.000000</td>\n",
       "      <td>1.000000</td>\n",
       "    </tr>\n",
       "  </tbody>\n",
       "</table>\n",
       "<p>8 rows × 23 columns</p>\n",
       "</div>"
      ],
      "text/plain": [
       "       artist_popularity  artist_followers  track_popularity  \\\n",
       "count        4594.000000       4594.000000       4594.000000   \n",
       "mean            0.653502          0.064251          0.545261   \n",
       "std             0.157266          0.133210          0.255206   \n",
       "min             0.000000          0.000000          0.000000   \n",
       "25%             0.564706          0.003673          0.469388   \n",
       "50%             0.658824          0.014313          0.612245   \n",
       "75%             0.764706          0.057374          0.714286   \n",
       "max             1.000000          1.000000          1.000000   \n",
       "\n",
       "       track_danceability  track_energy  track_loudness  track_tempo  \\\n",
       "count         4594.000000   4594.000000     4594.000000  4594.000000   \n",
       "mean             0.603929      0.670435        0.775219     0.455918   \n",
       "std              0.168816      0.203012        0.107722     0.178985   \n",
       "min              0.068900      0.004700        0.000000     0.000000   \n",
       "25%              0.492000      0.539000        0.732534     0.308261   \n",
       "50%              0.613000      0.695000        0.797957     0.451688   \n",
       "75%              0.728000      0.833000        0.849511     0.573721   \n",
       "max              0.981000      1.000000        1.000000     1.000000   \n",
       "\n",
       "       track_duration_ms          pop         rock  ...        house  \\\n",
       "count        4594.000000  4594.000000  4594.000000  ...  4594.000000   \n",
       "mean            0.201867     0.194384     0.177405  ...     0.012190   \n",
       "std             0.065454     0.395769     0.382053  ...     0.109744   \n",
       "min             0.000000     0.000000     0.000000  ...     0.000000   \n",
       "25%             0.161731     0.000000     0.000000  ...     0.000000   \n",
       "50%             0.191700     0.000000     0.000000  ...     0.000000   \n",
       "75%             0.228939     0.000000     0.000000  ...     0.000000   \n",
       "max             1.000000     1.000000     1.000000  ...     1.000000   \n",
       "\n",
       "             metal         soul          r&b      electro      hip hop  \\\n",
       "count  4594.000000  4594.000000  4594.000000  4594.000000  4594.000000   \n",
       "mean      0.070091     0.031781     0.041576     0.002830     0.130605   \n",
       "std       0.255329     0.175435     0.199640     0.053126     0.337005   \n",
       "min       0.000000     0.000000     0.000000     0.000000     0.000000   \n",
       "25%       0.000000     0.000000     0.000000     0.000000     0.000000   \n",
       "50%       0.000000     0.000000     0.000000     0.000000     0.000000   \n",
       "75%       0.000000     0.000000     0.000000     0.000000     0.000000   \n",
       "max       1.000000     1.000000     1.000000     1.000000     1.000000   \n",
       "\n",
       "              funk         folk        disco  other_genre  \n",
       "count  4594.000000  4594.000000  4594.000000  4594.000000  \n",
       "mean      0.015237     0.018720     0.013278     0.316282  \n",
       "std       0.122509     0.135549     0.114476     0.465075  \n",
       "min       0.000000     0.000000     0.000000     0.000000  \n",
       "25%       0.000000     0.000000     0.000000     0.000000  \n",
       "50%       0.000000     0.000000     0.000000     0.000000  \n",
       "75%       0.000000     0.000000     0.000000     1.000000  \n",
       "max       1.000000     1.000000     1.000000     1.000000  \n",
       "\n",
       "[8 rows x 23 columns]"
      ]
     },
     "execution_count": 726,
     "metadata": {},
     "output_type": "execute_result"
    }
   ],
   "source": [
    "df.describe()"
   ]
  },
  {
   "cell_type": "code",
   "execution_count": 727,
   "metadata": {},
   "outputs": [],
   "source": [
    "X = df.drop(columns=[\"is_explicit_content\"])\n",
    "y = df[\"is_explicit_content\"]"
   ]
  },
  {
   "cell_type": "markdown",
   "metadata": {},
   "source": [
    "# All in one"
   ]
  },
  {
   "cell_type": "code",
   "execution_count": 728,
   "metadata": {},
   "outputs": [
    {
     "name": "stdout",
     "output_type": "stream",
     "text": [
      "decision tree\n",
      "==========================\n",
      "best params are: {'max_depth': 7, 'min_samples_split': 7}\n",
      "best score is: 0.8300052098133939\n",
      "random forest\n",
      "==========================\n",
      "best params are: {'max_depth': 11, 'n_estimators': 250}\n",
      "best score is: 0.8585156768021218\n",
      "KNN\n",
      "==========================\n",
      "best params are: {'n_neighbors': 6}\n",
      "best score is: 0.7549142748886994\n"
     ]
    }
   ],
   "source": [
    "from sklearn.model_selection import GridSearchCV\n",
    "\n",
    "params_decision_tree = {\"max_depth\": [7,9,15], \"min_samples_split\": [3,5,7,10]}\n",
    "params_random_forest = {\"n_estimators\": [150,200, 250],\"max_depth\": [7,11,15]}\n",
    "params_knn = {\"n_neighbors\": range(3, 20)}\n",
    "\n",
    "clf_params = [(DecisionTreeClassifier(), params_decision_tree),\n",
    "             (RandomForestClassifier(), params_random_forest), \n",
    "             (KNeighborsClassifier(), params_knn)]\n",
    "             \n",
    "\n",
    "for idx, (clf, params) in enumerate(clf_params):\n",
    "    clf_cv = GridSearchCV(clf,params,cv=10)\n",
    "    clf_cv.fit(X,y)\n",
    "    print(alg_names[idx])\n",
    "    print(\"==========================\")\n",
    "    print(f\"best params are: {clf_cv.best_params_}\")\n",
    "    print(f\"best score is: {clf_cv.best_score_}\")"
   ]
  },
  {
   "cell_type": "code",
   "execution_count": 730,
   "metadata": {},
   "outputs": [
    {
     "name": "stdout",
     "output_type": "stream",
     "text": [
      "Test Results:\n",
      "==============\n",
      "                          precision    recall  f1-score   support\n",
      "\n",
      "without explicit content       0.84      0.94      0.89       947\n",
      "   with explicit content       0.83      0.61      0.71       432\n",
      "\n",
      "                accuracy                           0.84      1379\n",
      "               macro avg       0.84      0.78      0.80      1379\n",
      "            weighted avg       0.84      0.84      0.83      1379\n",
      "\n"
     ]
    }
   ],
   "source": [
    "X_train, X_test, y_train, y_test = train_test_split(X, y, test_size=0.3, random_state=1)\n",
    "clf = RandomForestClassifier(max_depth=11, n_estimators=250)\n",
    "clf.fit(X_train, y_train)\n",
    "targets=[\"without explicit content\", \"with explicit content\"]\n",
    "print(\"Test Results:\")\n",
    "print(\"==============\")\n",
    "print(metrics.classification_report(y_true=y_test, y_pred=y_pred, target_names=targets))"
   ]
  },
  {
   "cell_type": "code",
   "execution_count": null,
   "metadata": {},
   "outputs": [],
   "source": []
  }
 ],
 "metadata": {
  "kernelspec": {
   "display_name": "Python 3",
   "language": "python",
   "name": "python3"
  },
  "language_info": {
   "codemirror_mode": {
    "name": "ipython",
    "version": 3
   },
   "file_extension": ".py",
   "mimetype": "text/x-python",
   "name": "python",
   "nbconvert_exporter": "python",
   "pygments_lexer": "ipython3",
   "version": "3.8.5"
  }
 },
 "nbformat": 4,
 "nbformat_minor": 5
}
